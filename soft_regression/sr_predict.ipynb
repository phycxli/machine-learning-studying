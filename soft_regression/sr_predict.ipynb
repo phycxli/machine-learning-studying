{
 "cells": [
  {
   "cell_type": "code",
   "execution_count": 24,
   "metadata": {},
   "outputs": [],
   "source": [
    "# coding:UTF-8\n",
    "import numpy as np\n",
    "import os\n",
    "cwd=os.getcwd()"
   ]
  },
  {
   "attachments": {},
   "cell_type": "markdown",
   "metadata": {},
   "source": [
    "导入测试集数据，这里我们随机生成测试样本"
   ]
  },
  {
   "cell_type": "code",
   "execution_count": 25,
   "metadata": {},
   "outputs": [],
   "source": [
    "def load_predict(num,n):\n",
    "    '''导入测试数据\n",
    "    input:  num(int)生成测试样本的个数\n",
    "            n(int)特征空间维数、特征个数\n",
    "    output: test(mat)生成的测试样本\n",
    "    '''\n",
    "    test=np.mat(np.ones((num,n)))\n",
    "    for i in range(num):\n",
    "        test[i,0]=np.random.random()*6-3\n",
    "        test[i,1]=np.random.random()*15\n",
    "    return test"
   ]
  },
  {
   "attachments": {},
   "cell_type": "markdown",
   "metadata": {},
   "source": [
    "导入模型参数load_weights()函数"
   ]
  },
  {
   "cell_type": "code",
   "execution_count": 26,
   "metadata": {},
   "outputs": [],
   "source": [
    "def load_weights(model_path):\n",
    "    '''导入训练好的模型\n",
    "    input:  model_path(str)模型文件路径地址\n",
    "    output: weights(mat)权重矩阵(m,k)维数\n",
    "            m(int)权重矩阵行数(特征空间维数、特征个数)\n",
    "            k(int)标签个数、类数\n",
    "    '''\n",
    "    model_file=os.path.join(cwd,'model')\n",
    "    file=open(model_file)\n",
    "    w=[]\n",
    "    for row in file.readlines():\n",
    "        w_temp=[]\n",
    "        rows=row.strip().split('\\t')\n",
    "        for weight in rows:\n",
    "            w_temp.append(float(weight))\n",
    "        w.append(w_temp)\n",
    "    file.close()\n",
    "    weights=np.mat(w)\n",
    "    n,k=np.shape(weights)\n",
    "    return weights,n,k"
   ]
  },
  {
   "attachments": {},
   "cell_type": "markdown",
   "metadata": {},
   "source": [
    "生成预测结果，概率$P(y_i=j|X_i;\\theta)=\\frac{e^{\\theta_j^TX_i}}{\\sum_{l=1}^ke^{\\theta_l^TX_i}}$. 注意到分母是固定的，所以关键只需要求得$e^{\\theta_j^TX_i}$的最大值所对应的$y_i$即可，也就是$\\theta_j^TX_i$所对应的列"
   ]
  },
  {
   "cell_type": "code",
   "execution_count": 27,
   "metadata": {},
   "outputs": [],
   "source": [
    "def predict(test,weights):\n",
    "    '''利用已训练模型预测测试集\n",
    "    input:  test(mat)测试集数据\n",
    "            weights(mat)模型的权重\n",
    "    output: h.argmax(axis=1)所属类别，分类到概率最大的那一类\n",
    "    '''\n",
    "    h=test*weights\n",
    "    return h.argmax(axis=1)"
   ]
  },
  {
   "attachments": {},
   "cell_type": "markdown",
   "metadata": {},
   "source": [
    "保存预测结果"
   ]
  },
  {
   "cell_type": "code",
   "execution_count": 28,
   "metadata": {},
   "outputs": [],
   "source": [
    "def save_result(file,result):\n",
    "    '''保存最后预测的结果\n",
    "    input:  file(str)保存最后结果的文件名和路径\n",
    "            result(mat)最后的预测结果\n",
    "    '''\n",
    "    file_result=open(file,'w')\n",
    "    num=np.shape(result)[0]\n",
    "    for i in range(num):\n",
    "        file_result.write(str(result[i,0])+'\\n')\n",
    "    file_result.close()"
   ]
  },
  {
   "cell_type": "code",
   "execution_count": 29,
   "metadata": {},
   "outputs": [
    {
     "name": "stdout",
     "output_type": "stream",
     "text": [
      "1.loading model\n",
      "2.loading data\n",
      "3.getting prediction\n",
      "4.saving result\n"
     ]
    }
   ],
   "source": [
    "if __name__=='__main__':\n",
    "    print('1.loading model')\n",
    "    filename=os.path.join(cwd,'model')\n",
    "    w,n,k=load_weights(filename)\n",
    "    print('2.loading data')\n",
    "    test=load_predict(4000,n)\n",
    "    print('3.getting prediction')\n",
    "    result=predict(test,w)\n",
    "    print('4.saving result')\n",
    "    savename=os.path.join(cwd,'result')\n",
    "    save_result(savename,result)"
   ]
  }
 ],
 "metadata": {
  "kernelspec": {
   "display_name": "Python 3",
   "language": "python",
   "name": "python3"
  },
  "language_info": {
   "codemirror_mode": {
    "name": "ipython",
    "version": 3
   },
   "file_extension": ".py",
   "mimetype": "text/x-python",
   "name": "python",
   "nbconvert_exporter": "python",
   "pygments_lexer": "ipython3",
   "version": "3.10.8"
  },
  "orig_nbformat": 4,
  "vscode": {
   "interpreter": {
    "hash": "26de051ba29f2982a8de78e945f0abaf191376122a1563185a90213a26c5da77"
   }
  }
 },
 "nbformat": 4,
 "nbformat_minor": 2
}
