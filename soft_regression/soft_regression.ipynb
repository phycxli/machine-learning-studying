{
 "cells": [
  {
   "attachments": {},
   "cell_type": "markdown",
   "metadata": {},
   "source": [
    "### Soft Regression\n",
    "\n",
    "主要用于处理多分类问题，其中任意两个类是线性可分的。\n",
    "\n",
    "假设有$N$个训练样本$\\{(X_1,y_1),(X_2,y_2),\\cdots,(X_N,y_N)\\}$，对于soft regression算法，输入特征为$X_i\\in\\mathcal{R}^{n+1}$，类标记为:$y_i\\in\\{0,1,\\cdots,k\\}$.\n",
    "\n",
    "假设每一个样本估计所属的类概率为$P(y=j|X)$，假设函数为:\n",
    "\\begin{equation}\n",
    "h_\\theta(X_i)=\\begin{bmatrix}P(y_i=1|X_i;\\theta)\\\\P(y_i=2|X_i;\\theta)\\\\\\vdots\\\\P(y_i=k|X_i;\\theta)\\end{bmatrix}=\\frac{1}{\\sum_{j=1}^{k}e^{\\theta_j^T X_i}}\\begin{bmatrix}e^{\\theta_1^T X_i}\\\\e^{\\theta_2^T X_i}\\\\\\vdots\\\\e^{\\theta_k^T X_i}\\end{bmatrix}\n",
    "\\end{equation}\n",
    "\n",
    "其中$\\theta$表示的向量，且$\\theta_i\\in\\mathcal{R}^{n+1}$。每一个样本所属类的概率为$P(y_i=j|X_i;\\theta)=\\frac{e^{\\theta_j^T X_i}}{\\sum_{l=1}^{k}e^{\\theta_l^T X_i}}$\n",
    "\n",
    "损失函数$l(\\theta)=-\\frac{1}{N}[\\sum_{i=1}^N\\sum_{j=1}^kI(y_i=j)\\ln\\frac{e^{\\theta_j^T X_i}}{\\sum_{l=1}^{k}e^{\\theta_l^T X_i}}]$，$I(y_i=j)$表示指示函数"
   ]
  },
  {
   "cell_type": "code",
   "execution_count": null,
   "metadata": {},
   "outputs": [],
   "source": []
  }
 ],
 "metadata": {
  "language_info": {
   "name": "python"
  },
  "orig_nbformat": 4
 },
 "nbformat": 4,
 "nbformat_minor": 2
}
