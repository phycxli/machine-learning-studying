{
 "cells": [
  {
   "attachments": {},
   "cell_type": "markdown",
   "metadata": {},
   "source": [
    "### Soft Regression\n",
    "\n",
    "主要用于处理多分类问题，其中任意两个类是线性可分的。\n",
    "\n",
    "假设有$N$个训练样本$\\{(X_1,y_1),(X_2,y_2),\\cdots,(X_N,y_N)\\}$，对于soft regression算法，输入特征为$X_i\\in\\mathcal{R}^{n+1}$，类标记为:$y_i\\in\\{0,1,\\cdots,k\\}$.\n",
    "\n",
    "假设每一个样本估计所属的类概率为$P(y=j|X)$，假设函数为:\n",
    "\\begin{equation}\n",
    "h_\\theta(X_i)=\\begin{bmatrix}P(y_i=1|X_i;\\theta)\\\\P(y_i=2|X_i;\\theta)\\\\\\vdots\\\\P(y_i=k|X_i;\\theta)\\end{bmatrix}=\\frac{1}{\\sum_{j=1}^{k}e^{\\theta_j^T X_i}}\\begin{bmatrix}e^{\\theta_1^T X_i}\\\\e^{\\theta_2^T X_i}\\\\\\vdots\\\\e^{\\theta_k^T X_i}\\end{bmatrix}\n",
    "\\end{equation}\n",
    "\n",
    "其中$\\theta$表示的向量，且$\\theta_i\\in\\mathcal{R}^{n+1}$。每一个样本所属类的概率为$P(y_i=j|X_i;\\theta)=\\frac{e^{\\theta_j^T X_i}}{\\sum_{l=1}^{k}e^{\\theta_l^T X_i}}$\n",
    "\n",
    "损失函数用交叉熵$l(\\theta)=-\\frac{1}{N}[\\sum_{i=1}^N\\sum_{j=1}^kI(y_i=j)\\ln\\frac{e^{\\theta_j^T X_i}}{\\sum_{l=1}^{k}e^{\\theta_l^T X_i}}]$，$I(y_i=j)$表示指示函数"
   ]
  },
  {
   "cell_type": "code",
   "execution_count": 17,
   "metadata": {},
   "outputs": [
    {
     "data": {
      "text/plain": [
       "matrix([[-2.00997285e+02, -2.00997285e+02, -2.00997285e+02],\n",
       "        [-1.55402119e+03, -1.55402119e+03, -1.55402119e+03],\n",
       "        [-1.25323198e+05, -1.25323198e+05, -1.25323198e+05],\n",
       "        [-1.20353800e+06, -1.20353800e+06, -1.20353800e+06]])"
      ]
     },
     "execution_count": 17,
     "metadata": {},
     "output_type": "execute_result"
    }
   ],
   "source": [
    "import numpy as np\n",
    "x=[[1,2,3],\n",
    "   [2,3,4],\n",
    "   [4,5,6],\n",
    "   [5,6,7]]\n",
    "features=np.mat(np.array(x))\n",
    "rng = np.random.RandomState(40)\n",
    "weights=np.mat(rng.rand(3,4))\n",
    "err=np.exp(features*weights) \n",
    "rowsum=-err.sum(axis=1)\n",
    "rowsum=rowsum.repeat(3,axis=1)\n",
    "err"
   ]
  },
  {
   "cell_type": "code",
   "execution_count": 21,
   "metadata": {},
   "outputs": [
    {
     "data": {
      "text/plain": [
       "matrix([[15, 20, 26],\n",
       "        [22, 29, 38],\n",
       "        [29, 38, 50]])"
      ]
     },
     "execution_count": 21,
     "metadata": {},
     "output_type": "execute_result"
    }
   ],
   "source": [
    "m1=np.mat([[1,2,3],[2,3,4],[3,4,5]])\n",
    "m2=np.mat([[2,2,3],[2,3,4],[3,4,5]])\n",
    "m1*m2"
   ]
  }
 ],
 "metadata": {
  "kernelspec": {
   "display_name": "Python 3",
   "language": "python",
   "name": "python3"
  },
  "language_info": {
   "codemirror_mode": {
    "name": "ipython",
    "version": 3
   },
   "file_extension": ".py",
   "mimetype": "text/x-python",
   "name": "python",
   "nbconvert_exporter": "python",
   "pygments_lexer": "ipython3",
   "version": "3.10.8"
  },
  "orig_nbformat": 4,
  "vscode": {
   "interpreter": {
    "hash": "26de051ba29f2982a8de78e945f0abaf191376122a1563185a90213a26c5da77"
   }
  }
 },
 "nbformat": 4,
 "nbformat_minor": 2
}
