{
 "cells": [
  {
   "cell_type": "code",
   "execution_count": 13,
   "metadata": {},
   "outputs": [],
   "source": [
    "# coding:UTF-8\n",
    "import numpy as np"
   ]
  },
  {
   "cell_type": "code",
   "execution_count": 14,
   "metadata": {},
   "outputs": [],
   "source": [
    "#导入模型参数\n",
    "def load_model(model_file):\n",
    "    '''导入LR模型\n",
    "    input:  model_file(str)模型文件所在地址\n",
    "    output: w(mat)权重\n",
    "    '''\n",
    "    model=open(model_file)\n",
    "    w=[]\n",
    "    for row in model.readlines():\n",
    "        rows=row.strip().split('\\t')\n",
    "        w_temp=[]\n",
    "        for weight in rows:\n",
    "            w_temp.append(float(weight))\n",
    "        w.append(w_temp)\n",
    "    model.close()\n",
    "    return np.mat(w)"
   ]
  },
  {
   "cell_type": "code",
   "execution_count": 15,
   "metadata": {},
   "outputs": [],
   "source": [
    "#导入测试数据\n",
    "def load_predict_data(file_name):\n",
    "    '''导入测试数据\n",
    "    input:  file_name(str)测试数据文件地址\n",
    "    output: features(mat)测试文件数据特征\n",
    "    '''\n",
    "    file_predict=open(file_name)\n",
    "    features=[]\n",
    "    for row in file_predict.readlines():\n",
    "        rows=row.strip().split('\\t')\n",
    "        features_temp=[]\n",
    "        features_temp.append(1)\n",
    "        for data in rows:\n",
    "            features_temp.append(float(data))\n",
    "        features.append(features_temp)\n",
    "    file_predict.close()\n",
    "    return np.mat(features)"
   ]
  },
  {
   "cell_type": "code",
   "execution_count": 16,
   "metadata": {},
   "outputs": [],
   "source": [
    "def sig(x):\n",
    "    '''sigmoid函数\n",
    "    '''\n",
    "    return 1/(1+np.exp(-x))\n",
    "#对数据集进行预测\n",
    "def predict(data,w):\n",
    "    '''对测试集进行预测\n",
    "    input:  data(mat)测试数据特征矩阵\n",
    "            w(mat)模型权重参数\n",
    "    output: h(mat)预测结果\n",
    "    '''\n",
    "    h=sig(data*w.T)\n",
    "    num=np.shape(h)[0]\n",
    "    for i in range(num):\n",
    "        if h[i,0]<0.5:\n",
    "            h[i,0]=0\n",
    "        else:\n",
    "            h[i,0]=1\n",
    "    return h"
   ]
  },
  {
   "cell_type": "code",
   "execution_count": 17,
   "metadata": {},
   "outputs": [],
   "source": [
    "#保存预测结果\n",
    "def save_result(file_name,result):\n",
    "    '''保存最终预测结果\n",
    "    input:  file_name(str)保存文件名\n",
    "            result(mat)预测的结果\n",
    "    '''\n",
    "    num=np.shape(result)[0]\n",
    "    result_temp=[]\n",
    "    for i in range(num):\n",
    "        result_temp.append(str(result[i,0]))\n",
    "    file_result=open(file_name,'w')\n",
    "    file_result.write('\\t'.join(result_temp))\n",
    "    file_result.close()"
   ]
  },
  {
   "cell_type": "code",
   "execution_count": 18,
   "metadata": {},
   "outputs": [
    {
     "name": "stdout",
     "output_type": "stream",
     "text": [
      "loading_model\n",
      "loading predict data\n",
      "predicting\n",
      "saving result\n"
     ]
    }
   ],
   "source": [
    "#主程序\n",
    "if __name__=='__main__':\n",
    "    print('loading_model')\n",
    "    w=load_model('model')\n",
    "    print('loading predict data')\n",
    "    test_feature=load_predict_data('test_data')\n",
    "    print('predicting')\n",
    "    test_result=predict(data=test_feature,w=w)\n",
    "    print('saving result')\n",
    "    save_result('result',test_result)"
   ]
  },
  {
   "cell_type": "code",
   "execution_count": null,
   "metadata": {},
   "outputs": [],
   "source": []
  }
 ],
 "metadata": {
  "kernelspec": {
   "display_name": "Python 3",
   "language": "python",
   "name": "python3"
  },
  "language_info": {
   "codemirror_mode": {
    "name": "ipython",
    "version": 3
   },
   "file_extension": ".py",
   "mimetype": "text/x-python",
   "name": "python",
   "nbconvert_exporter": "python",
   "pygments_lexer": "ipython3",
   "version": "3.10.8"
  },
  "orig_nbformat": 4,
  "vscode": {
   "interpreter": {
    "hash": "26de051ba29f2982a8de78e945f0abaf191376122a1563185a90213a26c5da77"
   }
  }
 },
 "nbformat": 4,
 "nbformat_minor": 2
}
